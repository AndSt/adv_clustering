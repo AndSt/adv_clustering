{
 "cells": [
  {
   "cell_type": "code",
   "execution_count": 1,
   "id": "a56edef8",
   "metadata": {},
   "outputs": [],
   "source": [
    "%load_ext autoreload\n",
    "%autoreload 2\n",
    "\n",
    "import sys\n",
    "import os\n",
    "import joblib\n",
    "\n",
    "import pandas as pd\n",
    "import numpy as np\n",
    "\n",
    "sys.path.append('../')"
   ]
  },
  {
   "cell_type": "code",
   "execution_count": 3,
   "id": "da7a593e",
   "metadata": {},
   "outputs": [],
   "source": [
    "## Event to text"
   ]
  },
  {
   "cell_type": "code",
   "execution_count": 6,
   "id": "636a3acb",
   "metadata": {},
   "outputs": [],
   "source": [
    "data_dir = \"/Users/andst/synology/phd/datasets/clustering/reproducing/Event\"\n",
    "trained_dir = os.path.join(data_dir, \"trained\")\n",
    "os.makedirs(trained_dir, exist_ok=True)"
   ]
  },
  {
   "cell_type": "code",
   "execution_count": 78,
   "id": "f740b830",
   "metadata": {},
   "outputs": [],
   "source": [
    "from nltk.stem import PorterStemmer\n",
    "from nltk.tokenize import sent_tokenize, word_tokenize\n",
    "from nltk.corpus import stopwords\n",
    "\n",
    "ps = PorterStemmer()\n",
    "\n",
    "def preprocess(sentence):\n",
    "    sentence = [word.lower() for word in sentence.split(\" \") if word.lower() not in stopwords.words('english')]\n",
    "    sentence = [ps.stem(word) for word in sentence]\n",
    "    sentence = [word for word in sentence if word not in stopwords.words('english')]\n",
    "    \n",
    "    return sentence"
   ]
  },
  {
   "cell_type": "code",
   "execution_count": 79,
   "id": "bd046a9c",
   "metadata": {},
   "outputs": [],
   "source": [
    "import json\n",
    "\n",
    "\n",
    "\n",
    "with open(os.path.join(data_dir, \"Event_docarr.txt\"), \"r\") as f:\n",
    "    lines = f.readlines()\n",
    "    lines = [json.loads(l) for l in lines]\n",
    "\n",
    "\n",
    "sentences = [line[\"text\"] for line in lines]\n",
    "sentences = [preprocess(sentence) for sentence in sentences]"
   ]
  },
  {
   "cell_type": "code",
   "execution_count": null,
   "id": "4d0119af",
   "metadata": {},
   "outputs": [],
   "source": [
    "## Train and store event\n",
    "\n",
    "#dim"
   ]
  },
  {
   "cell_type": "code",
   "execution_count": 26,
   "id": "294e9360",
   "metadata": {},
   "outputs": [
    {
     "data": {
      "text/html": [
       "<div>\n",
       "<style scoped>\n",
       "    .dataframe tbody tr th:only-of-type {\n",
       "        vertical-align: middle;\n",
       "    }\n",
       "\n",
       "    .dataframe tbody tr th {\n",
       "        vertical-align: top;\n",
       "    }\n",
       "\n",
       "    .dataframe thead th {\n",
       "        text-align: right;\n",
       "    }\n",
       "</style>\n",
       "<table border=\"1\" class=\"dataframe\">\n",
       "  <thead>\n",
       "    <tr style=\"text-align: right;\">\n",
       "      <th></th>\n",
       "      <th>index</th>\n",
       "      <th>0</th>\n",
       "    </tr>\n",
       "  </thead>\n",
       "  <tbody>\n",
       "    <tr>\n",
       "      <th>0</th>\n",
       "      <td>in</td>\n",
       "      <td>20020</td>\n",
       "    </tr>\n",
       "    <tr>\n",
       "      <th>1</th>\n",
       "      <td>.</td>\n",
       "      <td>15974</td>\n",
       "    </tr>\n",
       "    <tr>\n",
       "      <th>2</th>\n",
       "      <td>the</td>\n",
       "      <td>9326</td>\n",
       "    </tr>\n",
       "    <tr>\n",
       "      <th>3</th>\n",
       "      <td>attack</td>\n",
       "      <td>8275</td>\n",
       "    </tr>\n",
       "    <tr>\n",
       "      <th>4</th>\n",
       "      <td>at</td>\n",
       "      <td>7097</td>\n",
       "    </tr>\n",
       "    <tr>\n",
       "      <th>...</th>\n",
       "      <td>...</td>\n",
       "      <td>...</td>\n",
       "    </tr>\n",
       "    <tr>\n",
       "      <th>3595</th>\n",
       "      <td>sense</td>\n",
       "      <td>6</td>\n",
       "    </tr>\n",
       "    <tr>\n",
       "      <th>3596</th>\n",
       "      <td>priorities</td>\n",
       "      <td>6</td>\n",
       "    </tr>\n",
       "    <tr>\n",
       "      <th>3597</th>\n",
       "      <td>rally</td>\n",
       "      <td>6</td>\n",
       "    </tr>\n",
       "    <tr>\n",
       "      <th>3598</th>\n",
       "      <td>japan</td>\n",
       "      <td>6</td>\n",
       "    </tr>\n",
       "    <tr>\n",
       "      <th>3599</th>\n",
       "      <td>maga</td>\n",
       "      <td>6</td>\n",
       "    </tr>\n",
       "  </tbody>\n",
       "</table>\n",
       "<p>3600 rows × 2 columns</p>\n",
       "</div>"
      ],
      "text/plain": [
       "           index      0\n",
       "0             in  20020\n",
       "1              .  15974\n",
       "2            the   9326\n",
       "3         attack   8275\n",
       "4             at   7097\n",
       "...          ...    ...\n",
       "3595       sense      6\n",
       "3596  priorities      6\n",
       "3597       rally      6\n",
       "3598       japan      6\n",
       "3599        maga      6\n",
       "\n",
       "[3600 rows x 2 columns]"
      ]
     },
     "execution_count": 26,
     "metadata": {},
     "output_type": "execute_result"
    }
   ],
   "source": [
    "a = ' '.join(sentences).split(' ')\n",
    "df = pd.Series(a).value_counts().reset_index()\n",
    "df[df[0] > 5]"
   ]
  },
  {
   "cell_type": "code",
   "execution_count": 89,
   "id": "5064592a",
   "metadata": {},
   "outputs": [],
   "source": [
    "from gensim.models import Word2Vec\n",
    "\n",
    "model = Word2Vec(sentences=sentences, window=3, vector_size=300, min_count=5, workers=2)"
   ]
  },
  {
   "cell_type": "code",
   "execution_count": 32,
   "id": "95ca430e",
   "metadata": {},
   "outputs": [],
   "source": [
    "model.wv.save_word2vec_format(os.path.join(trained_dir, \"vecs\"))"
   ]
  },
  {
   "cell_type": "code",
   "execution_count": 88,
   "id": "75ddbb9c",
   "metadata": {},
   "outputs": [
    {
     "data": {
      "text/plain": [
       "3257"
      ]
     },
     "execution_count": 88,
     "metadata": {},
     "output_type": "execute_result"
    }
   ],
   "source": [
    "len(model.wv.key_to_index)"
   ]
  },
  {
   "cell_type": "code",
   "execution_count": 67,
   "id": "a40efff4",
   "metadata": {},
   "outputs": [
    {
     "ename": "TypeError",
     "evalue": "get_vector() missing 1 required positional argument: 'key'",
     "output_type": "error",
     "traceback": [
      "\u001b[0;31m---------------------------------------------------------------------------\u001b[0m",
      "\u001b[0;31mTypeError\u001b[0m                                 Traceback (most recent call last)",
      "Cell \u001b[0;32mIn [67], line 1\u001b[0m\n\u001b[0;32m----> 1\u001b[0m \u001b[43mmodel\u001b[49m\u001b[38;5;241;43m.\u001b[39;49m\u001b[43mwv\u001b[49m\u001b[38;5;241;43m.\u001b[39;49m\u001b[43mget_vector\u001b[49m\u001b[43m(\u001b[49m\u001b[43m)\u001b[49m\n",
      "\u001b[0;31mTypeError\u001b[0m: get_vector() missing 1 required positional argument: 'key'"
     ]
    }
   ],
   "source": [
    "model.wv.get_vector()"
   ]
  },
  {
   "cell_type": "code",
   "execution_count": 48,
   "id": "f3c45ec2",
   "metadata": {},
   "outputs": [
    {
     "data": {
      "text/plain": [
       "1173"
      ]
     },
     "execution_count": 48,
     "metadata": {},
     "output_type": "execute_result"
    }
   ],
   "source": [
    "model.wv.get_index(\"total\")"
   ]
  },
  {
   "cell_type": "code",
   "execution_count": null,
   "id": "79a8418a",
   "metadata": {},
   "outputs": [],
   "source": [
    "names = ['Jessa', 'Eric', 'Bob']\n",
    "\n",
    "with open(r'E:/demos/files_demos/account/sales.txt', 'w') as fp:\n",
    "    fp.write(\"\\n\".join(str(item) for item in names))"
   ]
  },
  {
   "cell_type": "code",
   "execution_count": 60,
   "id": "d336a263",
   "metadata": {},
   "outputs": [],
   "source": [
    "\n",
    "# lowercase\n",
    "# stop words\n",
    "# porter stemming\n",
    "# frequencies below 5\n"
   ]
  },
  {
   "cell_type": "code",
   "execution_count": 54,
   "id": "88036790",
   "metadata": {},
   "outputs": [
    {
     "data": {
      "text/plain": [
       "False"
      ]
     },
     "execution_count": 54,
     "metadata": {},
     "output_type": "execute_result"
    }
   ],
   "source": [
    "\"dizingof\" in model.wv.key_to_index"
   ]
  },
  {
   "cell_type": "code",
   "execution_count": 90,
   "id": "87adcd8f",
   "metadata": {},
   "outputs": [],
   "source": [
    "\n",
    "\n",
    "def save_known_format(model, data_dir: str, dataset: str, lines):\n",
    "    \n",
    "    os.makedirs(data_dir, exist_ok=True)\n",
    "    with open(os.path.join(data_dir, f\"{dataset}_word2wid.txt\"), \"w\") as f:\n",
    "        key_dict = model.wv.key_to_index\n",
    "        key_dict.pop(\".\")\n",
    "        json.dump(model.wv.key_to_index, f)\n",
    "    word_vec_dict = {key: model.wv.get_vector(key) for key, ind in model.wv.key_to_index.items()}\n",
    "    joblib.dump(word_vec_dict, os.path.join(data_dir, f\"{dataset}_word2vec_300.pkl\"))\n",
    "    \n",
    "    info_list = []\n",
    "    for idx, line in enumerate(lines):\n",
    "        tokens = preprocess(line[\"text\"])\n",
    "        example = {\n",
    "            \"docid\": idx, \n",
    "            \"topic\": line[\"topic\"], \n",
    "            \"text\": line[\"text\"], \n",
    "            \"tokens\": tokens,\n",
    "            \"tokenids\": [model.wv.get_index(token) for token in tokens if token in model.wv.key_to_index]\n",
    "        }\n",
    "        info_list.append(example)\n",
    "    return info_list\n",
    "    with open(os.path.join(data_dir, f\"{dataset}_docarr.txt\"), \"w\") as f:\n",
    "            f.writelines((json.dumps(item) for item in info_list))\n",
    "    \n",
    "info_list = save_known_format(model, trained_dir, \"Event\", lines)"
   ]
  },
  {
   "cell_type": "code",
   "execution_count": null,
   "id": "477b2699",
   "metadata": {},
   "outputs": [],
   "source": [
    "## Run on DGX"
   ]
  },
  {
   "cell_type": "code",
   "execution_count": 91,
   "id": "89a7c92b",
   "metadata": {},
   "outputs": [],
   "source": [
    "with open(os.path.join(trained_dir, f\"Event_docarr.txt\"), \"w\") as f:\n",
    "    #f.writelines((item for item in info_list))\n",
    "    json.dump( info_list, f)"
   ]
  },
  {
   "cell_type": "code",
   "execution_count": null,
   "id": "679a807c",
   "metadata": {},
   "outputs": [],
   "source": []
  }
 ],
 "metadata": {
  "kernelspec": {
   "display_name": "Python 3 (ipykernel)",
   "language": "python",
   "name": "python3"
  },
  "language_info": {
   "codemirror_mode": {
    "name": "ipython",
    "version": 3
   },
   "file_extension": ".py",
   "mimetype": "text/x-python",
   "name": "python",
   "nbconvert_exporter": "python",
   "pygments_lexer": "ipython3",
   "version": "3.8.13"
  }
 },
 "nbformat": 4,
 "nbformat_minor": 5
}
